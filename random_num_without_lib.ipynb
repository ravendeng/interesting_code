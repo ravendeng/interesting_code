{
 "cells": [
  {
   "cell_type": "code",
   "execution_count": 1,
   "id": "7bc0e613",
   "metadata": {},
   "outputs": [],
   "source": [
    "def randint(a, b):\n",
    "    \"Return random integer in range [a, b], including both end points.\"\n",
    "    return a + randbelow(b - a + 1)\n",
    "\n",
    "def randbelow(n):\n",
    "    \"Return a random int in the range [0,n).  Raises ValueError if n<=0.\"\n",
    "    if n <= 0:\n",
    "        raise ValueError\n",
    "    k = n.bit_length()\n",
    "    numbytes = (k + 7) // 8\n",
    "    while True:\n",
    "        r = int.from_bytes(random_bytes(numbytes), 'big')\n",
    "        r >>= numbytes * 8 - k\n",
    "        if r < n:\n",
    "            return r\n",
    "\n",
    "def random_bytes(n):\n",
    "    \"Return n random bytes\"\n",
    "    with open('/dev/urandom', 'rb') as file:\n",
    "        return file.read(n)"
   ]
  },
  {
   "cell_type": "code",
   "execution_count": 9,
   "id": "a195f7c8",
   "metadata": {},
   "outputs": [
    {
     "data": {
      "text/plain": [
       "b'R0\\x9f\\xe9*'"
      ]
     },
     "execution_count": 9,
     "metadata": {},
     "output_type": "execute_result"
    }
   ],
   "source": [
    "n = 3\n",
    "n.bit_length()\n",
    "random_bytes(5)"
   ]
  },
  {
   "cell_type": "code",
   "execution_count": null,
   "id": "7ffb238f",
   "metadata": {},
   "outputs": [],
   "source": []
  },
  {
   "cell_type": "code",
   "execution_count": null,
   "id": "8ea1abbe",
   "metadata": {},
   "outputs": [],
   "source": []
  }
 ],
 "metadata": {
  "kernelspec": {
   "display_name": "Python 3",
   "language": "python",
   "name": "python3"
  },
  "language_info": {
   "codemirror_mode": {
    "name": "ipython",
    "version": 3
   },
   "file_extension": ".py",
   "mimetype": "text/x-python",
   "name": "python",
   "nbconvert_exporter": "python",
   "pygments_lexer": "ipython3",
   "version": "3.8.8"
  }
 },
 "nbformat": 4,
 "nbformat_minor": 5
}
